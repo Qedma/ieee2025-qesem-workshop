{
 "cells": [
  {
   "cell_type": "markdown",
   "id": "34c44ef7",
   "metadata": {},
   "source": [
    "# Characterization-based Error Mitigation for Quantum Computation - Workshop"
   ]
  },
  {
   "cell_type": "markdown",
   "id": "25181160",
   "metadata": {},
   "source": [
    "### Abstract\n",
    "In this lab, you will learn about **Quantum Error Suppression and Error Mitigation (QESEM)** through hands-on experiments.\n",
    "With QESEM, users can run quantum circuits on noisy QPUs and obtain highly accurate, error-free results with minimal QPU time overhead, close to theoretical limits.\n",
    "When executing a circuit, QESEM runs a device characterization protocol tailored to your circuit, yielding a reliable noise model for the errors occurring in the circuit. Based on the characterization, QESEM first implements noise-aware transpilation to map the input circuit onto a set of physical qubits and gates, which minimizes the noise affecting the target observable. These include the natively available gates (CX/CZ on IBM® devices), as well as additional gates optimized by QESEM, forming QESEM’s extended gate set. QESEM then runs a set of characterization-based error suppression (ES) and error mitigation (EM) circuits on the QPU and collects their measurement outcomes. These are then classically post-processed to provide an unbiased expectation value and an error bar for each observable, corresponding to the requested accuracy.\n",
    "\n",
    "For a detailed description of the QESEM algorithm, see our recent [paper](https://arxiv.org/abs/2508.10997) and the [QESEM documentation](https://docs.qedma.io/).\n",
    "\n",
    "<div>\n",
    "<img src=\"Qesem_workflow.svg\" width=\"800\"/>\n",
    "</div>"
   ]
  },
  {
   "cell_type": "markdown",
   "id": "7361a15c",
   "metadata": {},
   "source": [
    "## Setup\n",
    "We will run the workshop using google colab.\n",
    "\n",
    "Instead, if you prefer, you can clone the [repository](https://github.com/Qedma/ieee2025-qesem-workshop) and install the required packages locally using `pip` or `poetry`.\n",
    "\n",
    "Use the following commands to clone the repository and install the required packages."
   ]
  },
  {
   "cell_type": "code",
   "execution_count": null,
   "id": "01b810e9",
   "metadata": {},
   "outputs": [],
   "source": [
    "!git clone https://github.com/Qedma/ieee2025-qesem-workshop.git"
   ]
  },
  {
   "cell_type": "code",
   "execution_count": null,
   "id": "2d6d6f89",
   "metadata": {},
   "outputs": [],
   "source": [
    "!pip install \"qiskit>=2.0.0\" \"qiskit-ibm-runtime>=0.40.0\" \"qiskit-aer>=0.17.1\" \"networkx>=3.5\" \"matplotlib==3.10.0\" \"tqdm>=4.67.1\" \"scipy\" \"numpy\" \"qedma-api==0.18.3\"\n",
    "\n",
    "# In case you are running locally, please install jupyter as well:\n",
    "# pip install \"jupyter>=1.1.1\""
   ]
  },
  {
   "cell_type": "code",
   "execution_count": null,
   "id": "3a7a8b98",
   "metadata": {},
   "outputs": [],
   "source": [
    "cd /content/ieee2025-qesem-workshop"
   ]
  },
  {
   "cell_type": "markdown",
   "id": "6e4c2ed2",
   "metadata": {},
   "source": [
    "# Imports"
   ]
  },
  {
   "cell_type": "code",
   "execution_count": null,
   "id": "7ea26c9e",
   "metadata": {},
   "outputs": [],
   "source": [
    "%matplotlib inline\n",
    "\n",
    "import datetime\n",
    "import math\n",
    "import time\n",
    "\n",
    "import grader\n",
    "import matplotlib.pyplot as plt\n",
    "import networkx as nx\n",
    "import numpy as np\n",
    "import qedma_api\n",
    "import qiskit\n",
    "import qiskit.converters\n",
    "import qiskit.quantum_info\n",
    "import qiskit.result\n",
    "import qiskit_aer\n",
    "import qiskit_aer.noise\n",
    "import qiskit_ibm_runtime.fake_provider\n",
    "import scipy.optimize\n",
    "import tqdm\n",
    "import utils"
   ]
  },
  {
   "cell_type": "markdown",
   "id": "e169b25a",
   "metadata": {},
   "source": [
    "## Learning Objectives"
   ]
  },
  {
   "cell_type": "markdown",
   "id": "52e81c15",
   "metadata": {},
   "source": [
    "We'll explore:\n",
    "\n",
    "1. **Why do we need error mitigation?** - See how quantum noise affects different types of measurements\n",
    "2. **Kicked Ising circuits** - Our main example is the Kicked Ising chain, a benchmark model in quantum dynamics\n",
    "3. **Using QESEM** - Use QESEM to mitigate the noise"
   ]
  },
  {
   "cell_type": "markdown",
   "id": "f7c6e1fa",
   "metadata": {
    "jp-MarkdownHeadingCollapsed": true
   },
   "source": [
    "# Table of Contents\n",
    "\n",
    "1. [Section 1: Understanding the Importance of Error Mitigation](#Section-1:-Understanding-the-Importance-of-Error-Mitigation)\n",
    "   - [1.1 Use Case: Kicked Ising](#1.1-Use-Case:-Kicked-Ising)\n",
    "   - [1.2 Exercise 1: Comparing Ideal and Noisy Values](#1.2-Exercise-1:-Comparing-Ideal-and-Noisy-Values)\n",
    "     <!-- - [a. Trotter Circuit Visualization](#exercise-1a)\n",
    "     - [b. Ideal VS Noisy](#exercise-1b)\n",
    "       - [i. Total Magnetization](#exercise-1b-i)\n",
    "       - [ii. Heavy Weight (zzz)](#exercise-1b-ii) -->\n",
    "2. [Section 2: Introduction to QESEM](#Section-2:-Introduction-to-QESEM)\n",
    "   - [QESEM Parameters Reference](#QESEM-Parameters-Reference)\n",
    "   - [2.1 Exercise 2: Applying QESEM on a simple circuit](#2.1-Exercise-2:-Applying-QESEM-on-a-simple-circuit)\n",
    "     <!-- - [a. Time Estimation (Analytical + Empirical)](#exercise-2a)\n",
    "     - [b. Execution](#exercise-2b)\n",
    "     - [c. Reading Results](#exercise-2c)\n",
    "     - [d. Execution Metrics](#exercise-2d) -->\n",
    "   - [2.2 Key Concepts](#2.2-Key-Concepts)\n",
    "     - [2.2.1 Volume and Active Volume](#2.2.1-Volume-and-Active-Volume)\n",
    "     - [2.2.2 QESEM Runtime Overhead](#2.2.2-QESEM-Runtime-Overhead)\n",
    "   - [2.3 Exercise 3: QPU time vs. Active Volume](#2.3-Exercise-3:-QPU-time-vs.-Active-Volume)\n",
    "     <!-- - [a. Observables vs QPU Time](#exercise-3a)\n",
    "     - [b. Influence of Angles](#exercise-3b) -->\n",
    "   - [2.4 Exercise 4: Exploring the $T\\propto\\frac{1}{\\varepsilon^2}$ Relationship](#2.4-Exercise-4:-Exploring-the-$T-\\propto-\\frac{1}{\\varepsilon^2}$-Relationship)\n",
    "     <!-- - [a. Mitigation Overhead vs 𝜖](#exercise-4a) -->"
   ]
  },
  {
   "cell_type": "markdown",
   "id": "25364189",
   "metadata": {},
   "source": [
    "# Section 1: Understanding the Importance of Error Mitigation"
   ]
  },
  {
   "cell_type": "markdown",
   "id": "e03e9396",
   "metadata": {},
   "source": [
    "Quantum computers are inherently noisy devices. Even small amounts of noise can significantly affect quantum computations, especially as circuit depth increases. In this section, we'll:\n",
    "\n",
    "1. **Build a circuit** for the Kicked Ising model\n",
    "2. **Learn the effects of noise** on different types of quantum observables"
   ]
  },
  {
   "cell_type": "markdown",
   "id": "d52afbf0",
   "metadata": {},
   "source": [
    "## 1.1 Use Case: Kicked Ising\n",
    "\n",
    "The **Kicked Ising Model** is a paradigmatic quantum spin chain model used to study quantum chaos, entanglement, and non-equilibrium dynamics. It consists of spin-1/2 particles (qubits) with nearest-neighbor interactions on a graph, and a periodically applied \"kick\".\n",
    "\n",
    "### Model Definition\n",
    "\n",
    "The time evolution of the kicked Ising model is governed by a periodically time-dependent Hamiltonian. The unitary evolution over one period $T$, on a 1D lattice of size $n$, is given by:\n",
    "\n",
    "$$\n",
    "U = \\exp\\left(-i J \\sum_{j=0}^{n-2} \\sigma_j^z \\sigma_{j+1}^z \\right) \\exp\\left(-i h_x \\sum_{j=0}^{n-1} \\sigma_j^x \\right)\n",
    "$$\n",
    "\n",
    "where $\\sigma_j^x, \\sigma_j^z$ are Pauli matrices acting on site $j$, and $J, h_x$ are constants.\n",
    "\n",
    "### Physical Significance\n",
    "\n",
    "- **Quantum Chaos:** The kicked Ising model exhibits rich quantum chaotic behavior, making it a benchmark for studies of thermalization and information scrambling in many-body quantum systems.\n",
    "- **Floquet Systems:** Since the system is driven periodically, it is a canonical example of a **Floquet system**, where stroboscopic (periodic) dynamics are studied.\n",
    "- **Entanglement & Quantum Information:** The model is widely used to investigate entanglement growth, operator spreading, and out-of-time-ordered correlators (OTOCs).\n",
    "\n",
    "### Applications\n",
    "\n",
    "- Modeling non-equilibrium quantum dynamics.\n",
    "- Studying quantum information scrambling and entanglement spreading.\n",
    "- Exploring the transition between integrability and chaos in quantum systems.\n",
    "\n",
    "---\n",
    "\n",
    "**References:**\n",
    "- Prosen, T. (2007). \"Chaos and complexity in a kicked Ising spin chain.\" *Phys. Rev. E* 65, 036208.\n",
    "- [Wikipedia: Kicked Ising Model](https://en.wikipedia.org/wiki/Kicked_Ising_model)"
   ]
  },
  {
   "cell_type": "markdown",
   "id": "48801eab",
   "metadata": {},
   "source": [
    "<div class=\"alert alert-block alert-info\">\n",
    "<b>Note:</b>\n",
    "\n",
    "While in this lab we focus on exploring a 1D Kicked Ising model for simplicity, QESEM can work on arbitrary circuits and observables."
   ]
  },
  {
   "cell_type": "markdown",
   "id": "b68268e3",
   "metadata": {},
   "source": [
    "## 1.2 Exercise 1: Comparing Ideal and Noisy Values"
   ]
  },
  {
   "cell_type": "markdown",
   "id": "c7c8f55a",
   "metadata": {},
   "source": [
    "This exercise demonstrates how quantum noise degrades computation results by comparing three scenarios:\n",
    "\n",
    "**What We'll Do:**\n",
    "- **Build Kicked Ising Circuits**: Create quantum circuits simulating time evolution with increasing number of Trotter steps\n",
    "- **Measure Observables**:\n",
    "  - **Z Correlation Operators**: Evaluate  $\\left\\langle Z_0 Z_1 \\dots Z_{n-1} \\right\\rangle$ and $\\left\\langle Z_0 Z_1 \\dots Z_{4} \\right\\rangle$ to probe global multi-qubit correlations\n",
    "- **Compare Results**: Ideal expectation values to noisy ones\n"
   ]
  },
  {
   "cell_type": "markdown",
   "id": "69091074",
   "metadata": {},
   "source": [
    "### Step 1: Preparing Kicked-Ising circuit"
   ]
  },
  {
   "cell_type": "markdown",
   "id": "8161dc40",
   "metadata": {
    "lines_to_next_cell": 2,
    "vscode": {
     "languageId": "raw"
    }
   },
   "source": [
    "utils.kicked_ising_1d: Creates a quantum circuit that implements the Kicked Ising model. It applies alternating layers of RX gates (transverse field) and RZZ gates (interaction terms) to simulate the time evolution of the system."
   ]
  },
  {
   "cell_type": "code",
   "execution_count": null,
   "id": "5dd6b4d6",
   "metadata": {},
   "outputs": [],
   "source": [
    "def kicked_ising_1d(num_qubits: int, theta_x: float, theta_zz: float, num_steps: int) -> qiskit.QuantumCircuit:\n",
    "    \"\"\"\n",
    "    Parameters:\n",
    "        num_qubits (int): number of qubits on chain.\n",
    "        theta_x (float): Angle for RX gates.\n",
    "        theta_zz (float): Angle for RZZ gates.\n",
    "        num_steps (int): Number of steps.\n",
    "\n",
    "    Returns:\n",
    "        QuantumCircuit: The resulting quantum circuit.\n",
    "    \"\"\"\n",
    "    graph = nx.path_graph(num_qubits)\n",
    "    qc = qiskit.QuantumCircuit(num_qubits)\n",
    "\n",
    "    # Precompute edge layers (alternating non-overlapping pairs)\n",
    "    edges = list(graph.edges())\n",
    "    even_edges = [(u, v) for (u, v) in edges if u % 2 == 0]\n",
    "    odd_edges = [(u, v) for (u, v) in edges if u % 2 == 1]\n",
    "\n",
    "    for step in range(num_steps):\n",
    "        # RX on all qubits\n",
    "        for q in range(num_qubits):\n",
    "            qc.rx(theta_x, q)\n",
    "\n",
    "        # Apply even and odd layers separately\n",
    "        for edge_layer in [even_edges, odd_edges]:\n",
    "            for u, v in edge_layer:\n",
    "                qc.rzz(theta_zz, u, v)\n",
    "\n",
    "        if step < num_steps - 1:\n",
    "            qc.barrier()\n",
    "\n",
    "    return qc"
   ]
  },
  {
   "cell_type": "markdown",
   "id": "8e332b2d",
   "metadata": {},
   "source": [
    "### Step 2: Kicked Ising Circuit Visualization"
   ]
  },
  {
   "cell_type": "markdown",
   "id": "bc8c0282",
   "metadata": {
    "vscode": {
     "languageId": "raw"
    }
   },
   "source": [
    "Here we set up the circuit experiment parameters and create a visualization of the circuit.\n"
   ]
  },
  {
   "cell_type": "code",
   "execution_count": null,
   "id": "54bf6aad",
   "metadata": {
    "lines_to_next_cell": 2
   },
   "outputs": [],
   "source": [
    "n_qubits_ex1 = 20\n",
    "n_steps = 3\n",
    "\n",
    "circ = kicked_ising_1d(n_qubits_ex1, theta_x=math.pi / 6, theta_zz=math.pi / 3, num_steps=n_steps)\n",
    "\n",
    "print(f\"Circuit 2q layers: {circ.depth(filter_function=lambda instr: len(instr.qubits) == 2)}\")\n",
    "print(\"\\nCircuit structure:\")\n",
    "\n",
    "circ.draw(\"text\", scale=0.8, fold=-1)"
   ]
  },
  {
   "cell_type": "markdown",
   "id": "a4386e5e",
   "metadata": {},
   "source": [
    "### Step 3: Simulation Parameters\n",
    "\n",
    "Here we define:\n",
    "\n",
    "1. A list of circuits to simulate (corresponding to the different number of time steps)\n",
    "2. A list of observables to measure: $\\langle Z_0...Z_4 \\rangle$ and $\\langle Z_0...Z_{n-1} \\rangle$ and their labels\n"
   ]
  },
  {
   "cell_type": "code",
   "execution_count": null,
   "id": "cd24cda3",
   "metadata": {},
   "outputs": [],
   "source": [
    "steps_range = range(1, 9)\n",
    "\n",
    "circs_ex1 = []\n",
    "for n_steps in steps_range:\n",
    "    circs_ex1.append(\n",
    "        kicked_ising_1d(\n",
    "            n_qubits_ex1,\n",
    "            theta_x=math.pi * 0.14,\n",
    "            theta_zz=math.pi * 0.05,\n",
    "            num_steps=n_steps,\n",
    "        )\n",
    "    )\n",
    "\n",
    "# Prepare pairs of  (observables , labels)\n",
    "observable_label_pairs = [\n",
    "    (qiskit.quantum_info.SparsePauliOp.from_sparse_list([(\"Z\" * 5, range(5), 1)], n_qubits_ex1), r\"$Z_0Z_1...Z_{4}$\"),\n",
    "    (qiskit.quantum_info.SparsePauliOp.from_sparse_list([(\"Z\" * n_qubits_ex1, range(n_qubits_ex1), 1)], n_qubits_ex1), r\"$Z_0Z_1...Z_{n-1}$\"),\n",
    "]"
   ]
  },
  {
   "cell_type": "markdown",
   "id": "ed85d1dc",
   "metadata": {},
   "source": [
    "### Step 4: Compute ideal values"
   ]
  },
  {
   "cell_type": "markdown",
   "id": "bd2c4af4",
   "metadata": {},
   "source": [
    "Here we compute the ideal expectation values for each observable using exact simulation with statevectors. <br>\n",
    "This gives us the theoretical values that we would obtain on a perfect quantum computer without any noise.\n",
    "\n",
    "The following dictionary holds the ideal/noisy expectation values for every observable per step:<br>\n",
    "graphs[\"ideal\" or \"noisy\"][observable label] = [Expectation of observable at steps_range[0], Expectation of observable at steps_range[1], ....]"
   ]
  },
  {
   "cell_type": "markdown",
   "id": "00b04d48",
   "metadata": {},
   "source": [
    "<div class=\"alert alert-block alert-success\">\n",
    "<b>Exercise 1.1:</b> <br>\n",
    "    Complete the code for computing the ideal expectation value of \"obs\" after running the circuit \"circ\"\n",
    "\n",
    "Hint: [Statevector Documentation](https://quantum.cloud.ibm.com/docs/en/api/qiskit/qiskit.quantum_info.Statevector)"
   ]
  },
  {
   "cell_type": "code",
   "execution_count": null,
   "id": "2755bdf6",
   "metadata": {
    "lines_to_next_cell": 2
   },
   "outputs": [],
   "source": [
    "graphs = {\"ideal\": {}}\n",
    "graphs[\"ideal\"][\"steps_range\"] = steps_range\n",
    "for circ in tqdm.tqdm(circs_ex1):  # Loop over circuits [one step circuit, two steps circuit ,....]\n",
    "    for obs, label in observable_label_pairs:  # Loop over observables and their label\n",
    "        if label not in graphs[\"ideal\"]:  # Create list of ideal expectation values for every circuit\n",
    "            graphs[\"ideal\"][label] = []\n",
    "        ideal_value = qiskit.quantum_info.Statevector(circ).expectation_value(obs).real\n",
    "        graphs[\"ideal\"][label].append(ideal_value)"
   ]
  },
  {
   "cell_type": "code",
   "execution_count": null,
   "id": "8d8bc970",
   "metadata": {},
   "outputs": [],
   "source": [
    "# Function to draw graphs from \"graphs\" object\n",
    "\n",
    "# Running the function\n",
    "utils.graph_plots(graphs, observable_label_pairs)"
   ]
  },
  {
   "cell_type": "markdown",
   "id": "1e9d0c03",
   "metadata": {},
   "source": [
    "<div class=\"alert alert-block alert-info\">\n",
    "<b>Build Intuition:</b>\n",
    "\n",
    "Which of the two observables will be more affected by noise?"
   ]
  },
  {
   "cell_type": "markdown",
   "id": "ae7f48e8",
   "metadata": {},
   "source": [
    "### Step 5: Compute noisy values with error bars"
   ]
  },
  {
   "cell_type": "markdown",
   "id": "089ff185",
   "metadata": {},
   "source": [
    "Let's add **realistic quantum noise** to our simulation. We'll use an AerSimulator based on IBM's Fake Fez backend, which includes realistic noise models based on actual quantum hardware. <br>"
   ]
  },
  {
   "cell_type": "code",
   "execution_count": null,
   "id": "425dc78a",
   "metadata": {
    "lines_to_next_cell": 2
   },
   "outputs": [],
   "source": [
    "fake_backend = qiskit_ibm_runtime.fake_provider.FakeFez()\n",
    "basis_gates = fake_backend.configuration().basis_gates\n",
    "\n",
    "noisy_backend = qiskit_aer.AerSimulator(\n",
    "    method=\"matrix_product_state\",\n",
    "    noise_model=qiskit_aer.noise.NoiseModel.from_backend(fake_backend),\n",
    "    basis_gates=basis_gates,\n",
    "    coupling_map=fake_backend.configuration().coupling_map,\n",
    "    properties=fake_backend.properties(),\n",
    "    device=\"GPU\" if \"GPU\" in qiskit_aer.AerSimulator().available_devices() else \"CPU\",\n",
    ")\n",
    "\n",
    "\n",
    "num_shots = 100  #### <------ Edit if too slow"
   ]
  },
  {
   "cell_type": "markdown",
   "id": "a77b511b",
   "metadata": {},
   "source": [
    "Let's compute the noisy expectation values by running the circuits on the noisy simulator with finite shots. We calculate both the expectation values and their standard deviations to understand the statistical uncertainty in our measurements."
   ]
  },
  {
   "cell_type": "markdown",
   "id": "7ef3c3b0",
   "metadata": {},
   "source": [
    "<div class=\"alert alert-block alert-success\">\n",
    "<b>Exercise 1.2:</b> <br>\n",
    "    Complete the code for running \"num_shots\" shots of \"transpiled_circ\" on \"noisy_backend\" and extract the \"counts\" dictionary from the result. <br>\n",
    "Change the number of shots if the simulation is too slow.<br>\n",
    "\n",
    "Hint: [AerSimulator Documentation](https://qiskit.github.io/qiskit-aer/tutorials/1_aersimulator.html)"
   ]
  },
  {
   "cell_type": "code",
   "execution_count": null,
   "id": "448282ca",
   "metadata": {
    "lines_to_next_cell": 2
   },
   "outputs": [],
   "source": [
    "graphs[\"noisy\"] = {\"steps_range\": steps_range}\n",
    "graphs[\"noisy_std\"] = {}\n",
    "\n",
    "for circ in tqdm.tqdm(circs_ex1):\n",
    "    transpiled_circ = qiskit.transpile(circ, basis_gates=basis_gates, coupling_map=fake_backend.coupling_map)\n",
    "    transpiled_circ = utils.remove_idle_qubits(transpiled_circ)\n",
    "\n",
    "    transpiled_circ.measure_all()\n",
    "    counts = noisy_backend.run(transpiled_circ, shots=num_shots).result().get_counts()\n",
    "\n",
    "    for obs, label in observable_label_pairs:\n",
    "        if label not in graphs[\"noisy\"]:\n",
    "            graphs[\"noisy\"][label] = []\n",
    "            graphs[\"noisy_std\"][label] = []\n",
    "\n",
    "        noisy_obs_expectation = qiskit.result.sampled_expectation_value(counts, obs)  # Convert counts to expectation value\n",
    "        noisy_obs_variance = (1 - qiskit.result.sampled_expectation_value(counts, obs) ** 2) / num_shots  # Only true for Paulis: P^2=I\n",
    "        graphs[\"noisy\"][label].append(noisy_obs_expectation)\n",
    "        graphs[\"noisy_std\"][label].append(noisy_obs_variance**0.5)"
   ]
  },
  {
   "cell_type": "markdown",
   "id": "6ff2c32f",
   "metadata": {},
   "source": [
    "### Step 6: Plot the results"
   ]
  },
  {
   "cell_type": "markdown",
   "id": "b8037cf6",
   "metadata": {},
   "source": [
    "Finally, we visualize the results by plotting both the ideal and noisy expectation values as a function of the number of Trotter steps."
   ]
  },
  {
   "cell_type": "code",
   "execution_count": null,
   "id": "d8ff6327",
   "metadata": {},
   "outputs": [],
   "source": [
    "utils.graph_plots(graphs, observable_label_pairs)"
   ]
  },
  {
   "cell_type": "markdown",
   "id": "76a8b7cf",
   "metadata": {},
   "source": [
    "<div class=\"alert alert-block alert-info\">\n",
    "<b>Build intuition:</b> <br>\n",
    "\n",
    "\n",
    "- As circuits get deeper, quantum noise accumulates and the gap between ideal and noisy values grows. QESEM allows to run deeper circuits and still get meaningful results.\n",
    "- The decay of the noisy value is controlled by the number of noisy operations the observable is sensitive to. The $\\langle Z0...Z19 \\rangle$ observable decays much more than $\\langle Z0...Z4 \\rangle$ because its lightcone spans the entire circuit."
   ]
  },
  {
   "cell_type": "markdown",
   "id": "3e68a4bb",
   "metadata": {},
   "source": [
    "# Section 2: Introduction to QESEM"
   ]
  },
  {
   "cell_type": "markdown",
   "id": "9926508b",
   "metadata": {},
   "source": [
    "Now that we've seen how dramatically noise affects quantum computations, let's explore **QESEM** - a powerful technique to reduce these errors.\n",
    "\n",
    "### How QESEM Works\n",
    "\n",
    "QESEM combines two approaches:\n",
    "\n",
    "1. **Error Suppression**: Reduce the unitary part of the noise. It is based on QESEM's characterization.\n",
    "2. **Error Mitigation**: Use classical post-processing to estimate what the results would have been without noise."
   ]
  },
  {
   "cell_type": "markdown",
   "id": "9d442413",
   "metadata": {},
   "source": [
    "### QESEM Parameters Reference\n",
    "During this section we will guide you through the main parameters and explain each one.\n",
    "There are more advanced parameters which we won't cover, see an elaborate explanation about all the parameters [here](https://docs.qedma.io/advanced_settings/)."
   ]
  },
  {
   "cell_type": "markdown",
   "id": "8f0233ca",
   "metadata": {},
   "source": [
    "## 2.1 Exercise 2: Applying QESEM on a simple circuit"
   ]
  },
  {
   "cell_type": "markdown",
   "id": "7f4bd537",
   "metadata": {},
   "source": [
    "### Step 1: Initialize qedma_api client"
   ]
  },
  {
   "cell_type": "markdown",
   "id": "1c63ddfe",
   "metadata": {},
   "source": [
    "Here we are initializing the qedma_api client for an IBMQ simulator backend.\n",
    "Note: this API token will be available during the IEEE Quantum Week 2025 for you to explore QESEM on IBMQ simulators. For using QESEM on real QPUs please contact us at Qedma."
   ]
  },
  {
   "cell_type": "code",
   "execution_count": null,
   "id": "9fdf84c5",
   "metadata": {},
   "outputs": [],
   "source": [
    "# configuration\n",
    "qedma_api_token = \"66DWzZD53JifN49W-848LdjDTyoEY9dCb7cjwHlDFI4\"\n",
    "ibm_instance = \"crn:v1:bluemix:public:quantum-computing:us-east:a/test::\"\n",
    "\n",
    "qedma_client = qedma_api.Client(api_token=qedma_api_token)\n",
    "provider = qedma_api.IBMQProvider(instance=ibm_instance)\n",
    "qedma_client.set_provider(provider)"
   ]
  },
  {
   "cell_type": "code",
   "execution_count": null,
   "id": "2f71e43f",
   "metadata": {},
   "outputs": [],
   "source": [
    "# please enter a job description prefix for you jobs, e.g. your name\n",
    "job_description_prefix = \"job_description_prefix\""
   ]
  },
  {
   "cell_type": "markdown",
   "id": "5c58d307",
   "metadata": {},
   "source": [
    "### Step 2: Prepare Circuit and Observables\n",
    "The following circuit prepares the state $|\\psi\\rangle = 0.6|0000\\rangle+0.8|1111\\rangle $\n",
    "\n",
    "We will measure two observables:<br>\n",
    "avg_magnetization_ex2 = $\\frac{1}{4} \\sum_j Z_j$ <br>\n",
    "all_z_ex2 = $Z_0...Z_3$"
   ]
  },
  {
   "cell_type": "code",
   "execution_count": null,
   "id": "02951b0f",
   "metadata": {
    "lines_to_next_cell": 2
   },
   "outputs": [],
   "source": [
    "circ_ex2 = qiskit.QuantumCircuit(4)\n",
    "circ_ex2.ry(0.927 * 2, 0)\n",
    "circ_ex2.cx(0, 1)\n",
    "circ_ex2.cx(1, 2)\n",
    "circ_ex2.cx(2, 3)\n",
    "\n",
    "avg_magnetization_ex2 = qiskit.quantum_info.SparsePauliOp.from_sparse_list([(\"Z\", [q], 1 / 4) for q in range(4)], num_qubits=4)\n",
    "\n",
    "all_z_ex2 = qiskit.quantum_info.SparsePauliOp.from_sparse_list([(\"Z\" * 4, range(4), 1)], 4)\n",
    "\n",
    "obs_list_ex2 = [avg_magnetization_ex2, all_z_ex2]\n",
    "\n",
    "\n",
    "circ_ex2.draw(\"text\", scale=0.7)"
   ]
  },
  {
   "cell_type": "markdown",
   "id": "659fce9a",
   "metadata": {},
   "source": [
    "### Step 3: Empirical Time Estimation\n",
    "\n",
    "Users would typically want to know how much QPU time is required for their experiment.\n",
    "However, this is considered a hard problem for classical computers.<br>\n",
    "QESEM offers two modes of time estimation to inform users about the feasibility of their experiments:\n",
    "1. Analytical time estimation - gives a very rough estimation and requires no QPU time. This can be used to test if a transpilation pass would potentially reduce the QPU time.\n",
    "2. Empirical time estimation (demonstrated here) - gives a pretty good estimation and uses a few minutes of QPU time.\n",
    "\n",
    "In both cases, QESEM outputs the time estimation for reaching the required precision for <b>all</b> observables."
   ]
  },
  {
   "cell_type": "code",
   "execution_count": null,
   "id": "e232d62a",
   "metadata": {
    "lines_to_next_cell": 2
   },
   "outputs": [],
   "source": [
    "# Start a job for empirical time estimation\n",
    "\n",
    "\n",
    "job = qedma_client.create_job(\n",
    "    circuit=circ_ex2,\n",
    "    observables=obs_list_ex2,\n",
    "    empirical_time_estimation=True,  # \"empirical\" - gets actual time estimates without running full mitigation\n",
    "    precision=0.1,  # Precision for all observables\n",
    "    backend=\"fake_fez\",  # E.g. \"ibm_brisbane\"\n",
    "    description=f\"{job_description_prefix}-ex2\",\n",
    ")\n",
    "print(f\"Your job ID is: {job.job_id}\")"
   ]
  },
  {
   "cell_type": "code",
   "execution_count": null,
   "id": "2256c5db",
   "metadata": {},
   "outputs": [],
   "source": [
    "# Wait for the empirical time estimation to complete. This takes a 1-3 minutes\n",
    "time_estimation = qedma_client.wait_for_time_estimation(job.job_id)"
   ]
  },
  {
   "cell_type": "code",
   "execution_count": null,
   "id": "a94e71af",
   "metadata": {},
   "outputs": [],
   "source": [
    "print(f\"Empirical time estimation (sec): {time_estimation.seconds}\")"
   ]
  },
  {
   "cell_type": "markdown",
   "id": "60d8bb7b",
   "metadata": {
    "vscode": {
     "languageId": "raw"
    }
   },
   "source": [
    "### Step 4: Use QESEM to estimate the expectation values"
   ]
  },
  {
   "cell_type": "markdown",
   "id": "df3513a0",
   "metadata": {},
   "source": [
    "<div class=\"alert alert-block alert-success\">\n",
    "<b>Exercise 2:</b> <br>\n",
    "    Use QESEM to estimate the expectation values of \"avg_magnetization_ex2\" and \"all_z_ex2\" observables on the state generated by circ_ex2.  <br>\n",
    "    Start the job for which you ran the empirical time estimation above and set the max QPU time to 15 minutes. <br>\n"
   ]
  },
  {
   "cell_type": "code",
   "execution_count": null,
   "id": "c07c4082",
   "metadata": {},
   "outputs": [],
   "source": [
    "job_id_ex2 = job.job_id  # Use the job created above\n",
    "max_qpu_time_ex2 = datetime.timedelta(minutes=15)"
   ]
  },
  {
   "cell_type": "markdown",
   "id": "e79a2748",
   "metadata": {},
   "source": [
    "### Test parameters"
   ]
  },
  {
   "cell_type": "code",
   "execution_count": null,
   "id": "d6b70245",
   "metadata": {
    "lines_to_next_cell": 2
   },
   "outputs": [],
   "source": [
    "message = grader.grade_ex2(job=job, job_id=job_id_ex2, max_qpu_time_ex2=max_qpu_time_ex2)\n",
    "print(message)"
   ]
  },
  {
   "cell_type": "code",
   "execution_count": null,
   "id": "ff7877fe",
   "metadata": {
    "lines_to_next_cell": 2
   },
   "outputs": [],
   "source": [
    "# choose parameters for the start QESEM job:\n",
    "\n",
    "qedma_client.start_job(\n",
    "    job_id=job_id_ex2,\n",
    "    max_qpu_time=max_qpu_time_ex2,\n",
    ")"
   ]
  },
  {
   "cell_type": "markdown",
   "id": "5b7037fa",
   "metadata": {},
   "source": [
    "### Step 5: Reading the results"
   ]
  },
  {
   "cell_type": "code",
   "execution_count": null,
   "id": "715aa30f",
   "metadata": {
    "lines_to_next_cell": 2
   },
   "outputs": [],
   "source": [
    "job_res = qedma_client.wait_for_job_complete(  # Blocking - takes 3-5 minutes\n",
    "    job_id=job.job_id,\n",
    ")\n",
    "for i, obs in enumerate(obs_list_ex2):\n",
    "    print(\"-\" * 10)\n",
    "    print(\"Observable: \" + [\"Average Magnetization\", \"ZZZZ\"][i])\n",
    "    print(f\"Ideal: {qiskit.quantum_info.Statevector(circ_ex2).expectation_value(obs).real}\")\n",
    "    print(f\"Noisy: {job_res.noisy_results[i][1].value} \\u00b1 {job_res.noisy_results[i][1].error_bar}\")\n",
    "    print(f\"QESEM: {job_res.results[i][1].value} \\u00b1 {job_res.results[i][1].error_bar}\")\n",
    "\n",
    "\n",
    "print(\"-\" * 10)\n",
    "# Some of the data gathered during a QESEM run.\n",
    "print(f\"Gate fidelities found: {job_res.execution_details.gate_fidelities}\")"
   ]
  },
  {
   "cell_type": "code",
   "execution_count": null,
   "id": "168e38e3",
   "metadata": {
    "lines_to_next_cell": 2
   },
   "outputs": [],
   "source": [
    "# Results as a graph\n",
    "x = np.arange(2)  # Column position\n",
    "width = 0.06\n",
    "\n",
    "fig, ax = plt.subplots(figsize=(4, 2.5 * 1.5))\n",
    "\n",
    "# Plot the bars side by side\n",
    "ax.bar(\n",
    "    x - width,\n",
    "    [qiskit.quantum_info.Statevector(circ_ex2).expectation_value(obs).real for obs in [avg_magnetization_ex2, all_z_ex2]],\n",
    "    width,\n",
    "    label=\"Ideal\",\n",
    ")\n",
    "ax.bar(\n",
    "    x,\n",
    "    [job_res.noisy_results[0][1].value, job_res.noisy_results[1][1].value],\n",
    "    width,\n",
    "    label=\"Noisy\",\n",
    "    yerr=[job_res.noisy_results[0][1].error_bar, job_res.noisy_results[1][1].error_bar],\n",
    "    capsize=6,\n",
    ")\n",
    "ax.bar(\n",
    "    x + width,\n",
    "    [job_res.results[0][1].value, job_res.results[1][1].value],\n",
    "    width,\n",
    "    label=\"QESEM\",\n",
    "    yerr=[job_res.results[0][1].error_bar, job_res.results[1][1].error_bar],\n",
    "    capsize=6,\n",
    ")\n",
    "\n",
    "ax.set_xticks(x)\n",
    "ax.set_xticklabels([\"Average Magnetization\", \"ZZZZ\"])\n",
    "ax.set_title(r\"Comparing Ideal, Noisy and QESEM for $|\\psi\\rangle = 0.6|0000\\rangle+0.8|1111\\rangle$ \")\n",
    "ax.legend()\n",
    "\n",
    "plt.tight_layout()\n",
    "plt.grid(axis=\"y\")\n",
    "plt.axhline(0, color=\"black\", linewidth=2.5)  # y=0, bold black line\n",
    "plt.show()"
   ]
  },
  {
   "cell_type": "markdown",
   "id": "3e40f54c",
   "metadata": {},
   "source": [
    "## 2.2 Key Concepts"
   ]
  },
  {
   "cell_type": "markdown",
   "id": "1118b9a2",
   "metadata": {},
   "source": [
    "### 2.2.1 Volume and Active Volume"
   ]
  },
  {
   "cell_type": "markdown",
   "id": "c9e28b7d",
   "metadata": {},
   "source": [
    "A key figure of merit for quantifying the hardness of both error mitigation and classical simulation for a given circuit and observable is **active volume**: The number of two-qubit gates affecting the observable in the circuit. Different circuits and observables have different **active volumes**, which affects how hard they are to error-mitigate.\n",
    "\n",
    "The active volume depends on:\n",
    "- Circuit depth and width\n",
    "- Observable weight (number of non-identity Pauli operators)\n",
    "- Circuit structure (light cone of the observable)\n",
    "\n",
    "For further details, see the talk from the [2024 IBM Quantum Summit](https://www.youtube.com/watch?v=Hd-IGvuARfE&t=1730s&ab_channel=IBMResearch).\n",
    "\n",
    "<div>\n",
    "<img src=\"active_vol.svg\" />\n",
    "</div>"
   ]
  },
  {
   "cell_type": "markdown",
   "id": "0ae6fcbd",
   "metadata": {},
   "source": [
    "### 2.2.2 QESEM Runtime Overhead"
   ]
  },
  {
   "cell_type": "markdown",
   "id": "fe397ace",
   "metadata": {},
   "source": [
    "The QPU time behaves roughly like:\n",
    "$$T_{QPU} \\approx \\left(\\frac{A}{\\epsilon^2}\\right) \\times e^{C \\times IF \\times V_{active}} + B$$\n",
    "Where:\n",
    "- B overhead of gate optimization and error characterization\n",
    "- precision $\\epsilon$ absolute error in expectation value\n",
    "- $ IF \\times V_{active} $ infidelity-per-gate times active volume. The active volume only includes gates within the active light-cone.\n",
    "\n",
    "The **overhead** of error mitigation tells us how many additional quantum resources we need to achieve a target precision."
   ]
  },
  {
   "cell_type": "markdown",
   "id": "0fe0d59d",
   "metadata": {},
   "source": [
    "## 2.3 Exercise 2: QPU time vs. Active Volume\n",
    "In this section we'll fix the number of steps and the precision, and compare the QPU time for the two observables in Exercise 1.\n"
   ]
  },
  {
   "cell_type": "markdown",
   "id": "0e985801",
   "metadata": {},
   "source": [
    "<div class=\"alert alert-block alert-success\">\n",
    "<b>Exercise 3:</b> <br>\n",
    "    Use QESEM's <b>analytical</b> time estimation for measuring the expectation of $\\langle Z_0...Z_4\\rangle$ and $\\langle Z_0...Z_{n-1}\\rangle$ of the state generated by a few steps of the Kicked Ising model.<br>\n",
    "    Set the default_precision to 0.02.\n",
    "\n"
   ]
  },
  {
   "cell_type": "code",
   "execution_count": null,
   "id": "3341a312",
   "metadata": {
    "lines_to_next_cell": 2
   },
   "outputs": [],
   "source": [
    "# Set the options parameter for the QESEM job by the instruction:\n",
    "\n",
    "precision = 0.02\n",
    "empirical_time_estimation = False"
   ]
  },
  {
   "cell_type": "markdown",
   "id": "21539a7d",
   "metadata": {},
   "source": [
    "### Test parameters"
   ]
  },
  {
   "cell_type": "code",
   "execution_count": null,
   "id": "833ca3ed",
   "metadata": {},
   "outputs": [],
   "source": [
    "message = grader.grade_ex3(precision, empirical_time_estimation)\n",
    "print(message)"
   ]
  },
  {
   "cell_type": "markdown",
   "id": "94eaa2ee",
   "metadata": {},
   "source": [
    "### Start a jobs only if parameter check passed"
   ]
  },
  {
   "cell_type": "code",
   "execution_count": null,
   "id": "a0881aed",
   "metadata": {
    "lines_to_next_cell": 2
   },
   "outputs": [],
   "source": [
    "if message == grader.CORRECT_MESSAGE:\n",
    "    print(\"Starting jobs\")\n",
    "    selected_step = 6  # number of steps in the circuit.\n",
    "    num_qubits_ex3 = 20\n",
    "\n",
    "    circ = kicked_ising_1d(\n",
    "        num_qubits_ex3,\n",
    "        theta_x=math.pi * 0.14,\n",
    "        theta_zz=math.pi * 0.05,\n",
    "        num_steps=selected_step,\n",
    "    )\n",
    "\n",
    "    # Prepare pairs of  (observables , labels)\n",
    "    observable_label_pairs_ex3 = [\n",
    "        (qiskit.quantum_info.SparsePauliOp.from_sparse_list([(\"Z\" * 5, range(5), 1)], num_qubits_ex3), r\"$Z_0Z_1...Z_{4}$\"),\n",
    "        (qiskit.quantum_info.SparsePauliOp.from_sparse_list([(\"Z\" * num_qubits_ex3, range(num_qubits_ex3), 1)], num_qubits_ex3), r\"$Z_0Z_1...Z_{n-1}$\"),\n",
    "    ]\n",
    "\n",
    "    volume_jobs: list[datetime.timedelta] = []\n",
    "    for observable, obs_label in observable_label_pairs_ex3:\n",
    "        # run analytical time estimation on each observable separately. Takes about 3 minutes\n",
    "        job = qedma_client.create_job(\n",
    "            circuit=circ,\n",
    "            observables=[observable],\n",
    "            backend=\"fake_fez\",\n",
    "            precision=precision,\n",
    "            empirical_time_estimation=empirical_time_estimation,\n",
    "            description=f\"{job_description_prefix}-ex3-{obs_label}\",\n",
    "        )\n",
    "        time_est = qedma_client.wait_for_time_estimation(job.job_id)  # Wait for the time estimation to complete\n",
    "        print(f\"Analytical time estimation for observable {obs_label}: {time_est.seconds / 60} min\")\n",
    "\n",
    "else:\n",
    "    print(\"Parameters check failed. Jobs did not start\")"
   ]
  },
  {
   "cell_type": "markdown",
   "id": "c73613be",
   "metadata": {},
   "source": [
    "<div class=\"alert alert-block alert-info\">\n",
    "<b>Build intuition:</b> While the analytical time estimation is very rough (resolution of 30 minutes) and pessimistic, it still captures the difference in the active volumes of the two observables fairly quickly, and without using any QPU time."
   ]
  },
  {
   "cell_type": "markdown",
   "id": "23db350d",
   "metadata": {},
   "source": [
    "## 2.4 Exercise 4: Exploring the $T \\propto \\frac{1}{\\varepsilon^2}$ Relationship"
   ]
  },
  {
   "cell_type": "markdown",
   "id": "b242bc03",
   "metadata": {},
   "source": [
    "In this exercise, we will investigate **how QPU time scales with precision requirements**.\n",
    "### Step 1: Create and visualize the test circuit\n",
    "\n",
    "We'll create a single Kicked Ising circuit to test the precision-time relationship. This circuit will have enough complexity to show clear scaling behavior while remaining manageable for the experiment."
   ]
  },
  {
   "cell_type": "markdown",
   "id": "b7864a74",
   "metadata": {},
   "source": [
    "<div class=\"alert alert-block alert-success\">\n",
    "\n",
    "<b> Exercise 4.1:</b> <br>\n",
    "Complete the code. Use the function kicked_ising_1d() defined in Exercise 1 to create the circuit circ_ex4. Be sure to use the variables defined below n_qubits_ex4, n_steps_ex4, theta_x_ex4, theta_zz_ex4.\n",
    "</div>"
   ]
  },
  {
   "cell_type": "code",
   "execution_count": null,
   "id": "d6bef1bc",
   "metadata": {
    "lines_to_next_cell": 2
   },
   "outputs": [],
   "source": [
    "\n",
    "n_qubits_ex4 = 5  # Number of qubits (enough to see scaling effects)\n",
    "n_steps_ex4 = 10  # Number of Trotter steps (creates sufficient circuit depth)\n",
    "theta_x_ex4 = math.pi / 6  # Rotation angle for X gates (transverse field strength)\n",
    "theta_zz_ex4 = math.pi / 3  # Rotation angle for ZZ gates (interaction strength)\n",
    "\n",
    "# Create the Kicked Ising circuit that will be used for precision testing\n",
    "circ_ex4 = kicked_ising_1d(n_qubits_ex4, theta_x=theta_x_ex4, theta_zz=theta_zz_ex4, num_steps=n_steps_ex4)"
   ]
  },
  {
   "cell_type": "code",
   "execution_count": null,
   "id": "994edd68",
   "metadata": {},
   "outputs": [],
   "source": [
    "message = grader.grade_ex_4_1(circ_ex4)\n",
    "print(message)"
   ]
  },
  {
   "cell_type": "code",
   "execution_count": null,
   "id": "c965c6c3",
   "metadata": {},
   "outputs": [],
   "source": [
    "print(f\"Circuit 2q layers: {circ_ex4.depth(filter_function=lambda instr: len(instr.qubits) == 2)}\")\n",
    "print(\"\\nCircuit structure:\")\n",
    "\n",
    "circ_ex4.draw(\"text\", scale=1, fold=-1)"
   ]
  },
  {
   "cell_type": "markdown",
   "id": "8927a14d",
   "metadata": {},
   "source": [
    "### Step 2: Submit time estimation jobs with different precision values\n",
    "\n",
    "We'll submit multiple QESEM jobs, each with a different precision requirement (ε). The range from 0.005 to 0.06 covers both high-precision (expensive) and moderate-precision (cheaper) regimes.\n",
    "\n",
    "The observable: $\\langle Z_0...Z_4 \\rangle$. <br>\n",
    "\n",
    "\n",
    "**Empirical time estimation**: We will use \"empirical\" time estimation this setting performs a small execution on the QPU without running full mitigation. This usually takes a few minutes per estimation and is more reliable than the \"analytical\" estimation."
   ]
  },
  {
   "cell_type": "code",
   "execution_count": null,
   "id": "62aaf305",
   "metadata": {
    "lines_to_next_cell": 2
   },
   "outputs": [],
   "source": [
    "backend_name_fake = \"fake_fez\"\n",
    "precisions_ex4 = [0.005, 0.01, 0.03, 0.05]\n",
    "observable_ex4 = qiskit.quantum_info.SparsePauliOp.from_sparse_list([(\"Z\" * n_qubits_ex4, range(n_qubits_ex4), 1)], n_qubits_ex4)  # Z_0..Z_{n-1}\n",
    "\n",
    "# Initialize list to store job IDs\n",
    "jobs_ex4 = []"
   ]
  },
  {
   "cell_type": "code",
   "execution_count": null,
   "id": "1c46350e",
   "metadata": {},
   "outputs": [],
   "source": [
    "if message == grader.CORRECT_MESSAGE:\n",
    "    # Loop through each precision value\n",
    "    for precision in precisions_ex4:\n",
    "        print(f\"Submitting job with precision: {precision:.3f}\")\n",
    "\n",
    "        job = qedma_client.create_job(\n",
    "            circuit=circ_ex4,\n",
    "            observables=[observable_ex4],\n",
    "            precision=precision,\n",
    "            backend=backend_name_fake,\n",
    "            empirical_time_estimation=True,  # \"empirical\" - gets actual time estimates without running full mitigation\n",
    "            description=f\"{job_description_prefix}-ex4-{precision:.3f}\",\n",
    "        )\n",
    "\n",
    "        # Store the job ID\n",
    "        jobs_ex4.append(job)\n",
    "        print(f\"Job submitted with ID: {job.job_id}\")\n",
    "\n",
    "    print(\"\\nAll jobs submitted!\")\n",
    "\n",
    "    start_time = time.time()\n",
    "else:\n",
    "    print(\"Parameter check failed. Jobs did not start\")"
   ]
  },
  {
   "cell_type": "markdown",
   "id": "72cb2479",
   "metadata": {},
   "source": [
    "### Step 3: Monitor job progress\n",
    "\n",
    "Since time estimation jobs can take several minutes to complete, we'll monitor their progress. This gives us real-time feedback on when all jobs are finished. Might take approximately 15 minutes (tested on fake_fez)."
   ]
  },
  {
   "cell_type": "code",
   "execution_count": null,
   "id": "31d0bfec",
   "metadata": {},
   "outputs": [],
   "source": [
    "print(\"Monitoring job completion...   (this takes around 15 minutes, tested on fake_fez, you may break and return later)\")\n",
    "print(f\"Total jobs: {len(jobs_ex4)}\")\n",
    "print(\"-\" * 30)\n",
    "\n",
    "while True:  # Each job performs device characterization to estimate QPU time requirements\n",
    "    # Count how many jobs are done\n",
    "    done_count = 0\n",
    "    for job in jobs_ex4:  # Jobs with smaller ε values may take longer to process\n",
    "        if qedma_client.get_job(job.job_id).status == \"ESTIMATED\":\n",
    "            done_count += 1\n",
    "\n",
    "    # Show current status\n",
    "    elapsed_time = time.time() - start_time\n",
    "    timestamp = datetime.datetime.now().strftime(\"%H:%M:%S\")\n",
    "    print(f\"[{timestamp}] {done_count}/{len(jobs_ex4)} jobs completed (elapsed: {elapsed_time / 60:.1f} min)\")\n",
    "\n",
    "    # Check if all jobs are done\n",
    "    if done_count == len(jobs_ex4):\n",
    "        print(\"\\nAll jobs completed!\")\n",
    "        break\n",
    "\n",
    "    # Wait 30 seconds before next check\n",
    "    time.sleep(30)\n",
    "\n",
    "end_time = time.time()\n",
    "print(f\"Total time: {(end_time - start_time)/60:.1f} minutes\")"
   ]
  },
  {
   "cell_type": "markdown",
   "id": "4b7bf7a0",
   "metadata": {
    "vscode": {
     "languageId": "raw"
    }
   },
   "source": [
    "### Step 4: Extract time estimation results\n",
    "\n",
    "Once all jobs are complete, we extract the QPU time estimates from each job's. These time estimates represent how long QESEM would need to achieve the requested precision."
   ]
  },
  {
   "cell_type": "code",
   "execution_count": null,
   "id": "0fffd898",
   "metadata": {
    "lines_to_next_cell": 2
   },
   "outputs": [],
   "source": [
    "# Once jobs are complete, extract time estimations\n",
    "time_estimations = []\n",
    "\n",
    "print(\"\\nExtracting time estimations from jobs...\")\n",
    "for i, job in enumerate(jobs_ex4):  # Loop through all completed jobs\n",
    "    print(f\"Getting time estimation for job {i+1}\")\n",
    "\n",
    "    # Get the result and extract time estimation\n",
    "    time_estimation_sec = qedma_client.wait_for_time_estimation(job.job_id).seconds\n",
    "\n",
    "    # Store the time estimation\n",
    "    time_estimations.append(time_estimation_sec)\n",
    "    print(f\"Time estimation: {time_estimation_sec} seconds\")\n",
    "\n",
    "print(\"\\nAll time estimations extracted!\")"
   ]
  },
  {
   "cell_type": "markdown",
   "id": "7e8bb2ca",
   "metadata": {
    "lines_to_next_cell": 2,
    "vscode": {
     "languageId": "raw"
    }
   },
   "source": [
    "\n",
    "### Step 5: Visualize the results\n",
    "\n",
    "We'll create a standard linear plot to visualize how QPU time varies with precision. This gives us an intuitive view of the relationship.\n",
    "\n",
    "**Expected Pattern**: Time estimates should increase dramatically as precision requirements become more stringent (smaller ε)."
   ]
  },
  {
   "cell_type": "code",
   "execution_count": null,
   "id": "9a28b335",
   "metadata": {},
   "outputs": [],
   "source": [
    "# Define the plotting function to visualize QPU time vs precision\n",
    "def plot_qpu_time_vs_precision(precisions: list[float], time_estimations_sec: list[float], title_suffix: str = \"\") -> None:\n",
    "    \"\"\"\n",
    "    Plot QPU time estimation vs precision with curve fitting\n",
    "\n",
    "    Args:\n",
    "        precisions: Array of precision values (ε)\n",
    "        time_estimations_sec: Array of time estimations in seconds\n",
    "        title_suffix: Optional suffix to add to the plot title\n",
    "    \"\"\"\n",
    "    # Convert time estimations from seconds to minutes\n",
    "    time_estimations_min = np.array(time_estimations_sec) / 60\n",
    "\n",
    "    # Define the fitting function: T = A/precision^2 + B\n",
    "    def fit_function(precisions: list[float], a: float, b: float) -> list[float]:\n",
    "        return [a / (p**2) + b for p in precisions]\n",
    "\n",
    "    # Perform the curve fit using time\n",
    "    popt, _ = scipy.optimize.curve_fit(fit_function, precisions, time_estimations_min)\n",
    "    a_fit, b_fit = popt\n",
    "\n",
    "    # Create a smooth curve for plotting the fit\n",
    "    precision_smooth = np.linspace(min(precisions), max(precisions), 100).tolist()\n",
    "    time_fit = fit_function(precision_smooth, a_fit, b_fit)\n",
    "\n",
    "    plt.figure(figsize=(8, 5))\n",
    "    plt.plot(precisions, time_estimations_min, \"o\", markersize=8, color=\"blue\", label=\"Data\")\n",
    "    plt.plot(\n",
    "        precision_smooth,\n",
    "        time_fit,\n",
    "        \"-\",\n",
    "        linewidth=2,\n",
    "        color=\"red\",\n",
    "        label=f\"Fit: T = {a_fit:.3f}/ε² + {b_fit:.1f}\",\n",
    "    )\n",
    "    plt.xlabel(\"Precision (ε)\", fontsize=12)\n",
    "    plt.ylabel(\"QPU Time Estimation (minutes)\", fontsize=12)\n",
    "    plt.title(f\"QESEM QPU Time Estimation vs Precision{title_suffix}\", fontsize=14)\n",
    "\n",
    "    plt.locator_params(axis=\"y\", nbins=10)  # Increase number of y-axis ticks\n",
    "    plt.grid(True, alpha=0.3)\n",
    "    plt.legend()\n",
    "\n",
    "    # Display fit parameters\n",
    "    print(\"Fitted parameters:\")\n",
    "    print(f\"A = {a_fit:.3f}\")\n",
    "    print(f\"B = {b_fit:.2f}\")\n",
    "    print(f\"Function: T = {a_fit:.3f}/ε² + {b_fit:.2f}\")\n",
    "    print(f\"Data points: {len(precisions)}\")\n",
    "\n",
    "    plt.tight_layout()\n",
    "    plt.show()\n",
    "\n",
    "\n",
    "# Create the initial plot with Steps 2-5 data\n",
    "plot_qpu_time_vs_precision(precisions_ex4, time_estimations)"
   ]
  },
  {
   "cell_type": "markdown",
   "id": "b614bd26",
   "metadata": {},
   "source": [
    "And indeed we can see the expected functional dependence of:\n",
    "$$T_{QPU} \\approx \\frac{\\tilde{A}}{\\epsilon^2} + B$$\n",
    "Where:\n",
    "- $\\tilde A={A} \\times e^{C \\times IF \\times V_{active}}$\n",
    "- $A$ is a constant that depends on the circuit and the expectation value\n",
    "- $B$ is overhead due to gate optimization and error characterization\n",
    "- $C$ is a constant between 2-4 that depends on the details of the error mitigation method."
   ]
  },
  {
   "cell_type": "markdown",
   "id": "4512d5b6",
   "metadata": {},
   "source": [
    "### Step 6: Execute with error mitigation\n",
    "\n",
    "Now let's run the actual QESEM error mitigation on our circuit."
   ]
  },
  {
   "cell_type": "markdown",
   "id": "011c9528",
   "metadata": {},
   "source": [
    "<div class=\"alert alert-block alert-success\">\n",
    "\n",
    "<b> Exercise 4.2:</b>\n",
    "\n",
    "Look at the results of the QPU time vs precision graph above and think which precision you would like for your full execution (on a noisy simulator).\n",
    "Complete the QESEM job parameters accordingly.\n",
    "We will run an empirical time estimation for your desired precision to predict QPU resource requirements before running the full QESEM mitigation.\n",
    "\n",
    "</div>"
   ]
  },
  {
   "cell_type": "markdown",
   "id": "ef21bbc8",
   "metadata": {
    "lines_to_next_cell": 2
   },
   "source": [
    "<div class=\"alert alert-block alert-info\">\n",
    "<b>Tip:</b> Use a moderate precision for reasonable execution time while still demonstrating the mitigation capabilities."
   ]
  },
  {
   "cell_type": "code",
   "execution_count": null,
   "id": "1695c7de",
   "metadata": {
    "lines_to_next_cell": 0
   },
   "outputs": [],
   "source": [
    "precision_ex4_2 = 0.04\n",
    "circuit_ex4_2 = circ_ex4\n",
    "observables_ex4_2 = [observable_ex4]\n",
    "backend_ex4_2 = \"fake_fez\"\n",
    "empirical_time_estimation_ex4_2 = True"
   ]
  },
  {
   "cell_type": "markdown",
   "id": "5bcf810d",
   "metadata": {},
   "source": [
    "### Test parameters"
   ]
  },
  {
   "cell_type": "code",
   "execution_count": null,
   "id": "5503da7b",
   "metadata": {},
   "outputs": [],
   "source": [
    "message = grader.grade_ex_4_2(\n",
    "    precision_ex4_2=precision_ex4_2,\n",
    "    circuit_ex4_2=circuit_ex4_2,\n",
    "    observables_ex4_2=observables_ex4_2,\n",
    "    backend_ex4_2=backend_ex4_2,\n",
    "    empirical_time_estimation_ex4_2=empirical_time_estimation_ex4_2,\n",
    ")\n",
    "print(message)"
   ]
  },
  {
   "cell_type": "markdown",
   "id": "faacebe9",
   "metadata": {},
   "source": [
    "### Start a job only if parameter check passed"
   ]
  },
  {
   "cell_type": "code",
   "execution_count": null,
   "id": "86e255aa",
   "metadata": {
    "lines_to_next_cell": 2
   },
   "outputs": [],
   "source": [
    "if message == grader.CORRECT_MESSAGE:  # Run the job only if parameters are correct\n",
    "    # Start a job\n",
    "    # Get time estimation first (quick empirical check)\n",
    "    job_ex4_2 = qedma_client.create_job(\n",
    "        circuit=circuit_ex4_2,\n",
    "        observables=observables_ex4_2,\n",
    "        precision=precision_ex4_2,\n",
    "        backend=backend_ex4_2,\n",
    "        empirical_time_estimation=empirical_time_estimation_ex4_2,\n",
    "    )\n",
    "\n",
    "    print(f\"Time estimation job submitted: {job_ex4_2.job_id}\")\n",
    "    print(f\"with precision: {precision_ex4_2}\")\n",
    "\n",
    "else:\n",
    "    print(message)\n",
    "    print(\"Parameter check failed. Job did not start.\")"
   ]
  },
  {
   "cell_type": "markdown",
   "id": "11a16a49",
   "metadata": {},
   "source": [
    "<a id=\"tips\"></a>\n",
    "<div class=\"alert alert-block alert-info\">\n",
    "\n",
    "<b> Tip:</b> Use this code cell to check your job's status."
   ]
  },
  {
   "cell_type": "code",
   "execution_count": null,
   "id": "a09fdf50",
   "metadata": {},
   "outputs": [],
   "source": [
    "qedma_client.get_job(job_ex4_2.job_id).status"
   ]
  },
  {
   "cell_type": "markdown",
   "id": "1e41470b",
   "metadata": {},
   "source": [
    "Extract the time estimation from Step 6a and add it to our precision vs. QPU time graph to see how the new data point fits the T ∝ 1/ε² relationship."
   ]
  },
  {
   "cell_type": "code",
   "execution_count": null,
   "id": "685524a5",
   "metadata": {
    "lines_to_next_cell": 2
   },
   "outputs": [],
   "source": [
    "# Get the time estimation result\n",
    "time_est_result = qedma_client.wait_for_time_estimation(job_ex4_2.job_id)\n",
    "step6_time_estimation = time_est_result.seconds\n",
    "\n",
    "print(f\"Step 6 time estimation: {step6_time_estimation} seconds\")\n",
    "\n",
    "# Add the new data point to existing arrays\n",
    "precisions_updated = precisions_ex4 + [precision_ex4_2]\n",
    "time_estimations_updated = time_estimations + [step6_time_estimation]\n",
    "\n",
    "# Plot the updated graph with the new data point\n",
    "print(\"\\nUpdated graph with Step 6 data point:\")\n",
    "plot_qpu_time_vs_precision(precisions_updated, time_estimations_updated, \" (Including Step 6)\")"
   ]
  },
  {
   "cell_type": "markdown",
   "id": "35ed6275",
   "metadata": {},
   "source": [
    "<div class=\"alert alert-block alert-success\">\n",
    "\n",
    "<b> Exercise 4.3:</b>\n",
    "\n",
    "If you are satisfied with the time estimation go ahead and run the full QESEM error mitigation on our 5-qubit, 10-step Kicked Ising circuit with precision ε. In a case of real QPU, This will take QPU time according to your estimation result.\n",
    "Complete the QESEM job parameters accordingly.\n",
    "\n",
    "</div>"
   ]
  },
  {
   "cell_type": "markdown",
   "id": "b2f778da",
   "metadata": {},
   "source": [
    "<a id=\"tips\"></a>\n",
    "<div class=\"alert alert-block alert-info\">\n",
    "\n",
    "<b> Tip:</b> Use \"max_execution_time\" option, this allows you to limit the QPU time, as `datetime.timedelta`. After the time limit is reached, QESEM stops sending new circuits. Circuits that have already been sent continue running, you can see detailed explanation [here](https://docs.qedma.io/advanced_settings/).\n",
    "Note: QESEM will end its run when it reaches the target precision or when it reaches max_execution_time, whichever comes first.\n",
    "We will define max execution time as 3 minutes, which is enough for the 5-qubit, 10-step Kicked Ising circuit with precision ε=0.04 according to our time estimation."
   ]
  },
  {
   "cell_type": "markdown",
   "id": "27598aac",
   "metadata": {},
   "source": [
    "<div class=\"alert alert-block alert-warning\">\n",
    "<b>Warning:</b> The QPU time estimation changes from one backend to another. Therefore, when executing QESEM, make sure to run it on the same backend that was selected when obtaining the QPU time estimation."
   ]
  },
  {
   "cell_type": "code",
   "execution_count": null,
   "id": "4fbfd44b",
   "metadata": {},
   "outputs": [],
   "source": [
    "max_qpu_time_ex4_3 = datetime.timedelta(minutes=3)"
   ]
  },
  {
   "cell_type": "markdown",
   "id": "40608752",
   "metadata": {},
   "source": [
    "### Test parameters"
   ]
  },
  {
   "cell_type": "code",
   "execution_count": null,
   "id": "12056e2b",
   "metadata": {},
   "outputs": [],
   "source": [
    "message = grader.grade_ex_4_3(max_qpu_time_ex4_3=max_qpu_time_ex4_3)\n",
    "print(message)"
   ]
  },
  {
   "cell_type": "markdown",
   "id": "a015e139",
   "metadata": {},
   "source": [
    "### Start a job only if parameter check passed"
   ]
  },
  {
   "cell_type": "code",
   "execution_count": null,
   "id": "9fd4dd68",
   "metadata": {
    "lines_to_next_cell": 2
   },
   "outputs": [],
   "source": [
    "if message == grader.CORRECT_MESSAGE:  # Run the job only if parameters are correct\n",
    "    # Start a job\n",
    "    # Submit actual mitigation job\n",
    "    qedma_client.start_job(job_ex4_2.job_id, max_qpu_time=max_qpu_time_ex4_3)\n",
    "\n",
    "    print(f\"QESEM mitigation job submitted: {job_ex4_2.job_id}\")\n",
    "    print(\"Job is running... This may take several minutes.\")\n",
    "\n",
    "else:\n",
    "    print(message)\n",
    "    print(\"Parameter check failed, job did not start.\")"
   ]
  },
  {
   "cell_type": "markdown",
   "id": "9dc27169",
   "metadata": {},
   "source": [
    "<a id=\"tips\"></a>\n",
    "<div class=\"alert alert-block alert-info\">\n",
    "\n",
    "<b> Tip:</b> Use this code cell to check your job's status."
   ]
  },
  {
   "cell_type": "code",
   "execution_count": null,
   "id": "23f02098",
   "metadata": {},
   "outputs": [],
   "source": [
    "qedma_client.get_job(job_ex4_2.job_id).status"
   ]
  },
  {
   "cell_type": "markdown",
   "id": "128c4c48",
   "metadata": {},
   "source": [
    "Extract and analyze the QESEM results, comparing ideal, noisy, and error-mitigated expectation values to demonstrate the effectiveness of QESEM.\n"
   ]
  },
  {
   "cell_type": "code",
   "execution_count": null,
   "id": "897cc1e4",
   "metadata": {
    "lines_to_next_cell": 2
   },
   "outputs": [],
   "source": [
    "# Read and analyze results\n",
    "print(\"Reading QESEM results...\")\n",
    "\n",
    "# Get the mitigated results\n",
    "qesem_job_results = qedma_client.wait_for_job_complete(job_ex4_2.job_id)\n",
    "print(\"Job completed successfully!\")\n",
    "\n",
    "# Extract results for our observable\n",
    "mitigated_expectation = qesem_job_results.results[0][1].value\n",
    "mitigated_std = qesem_job_results.results[0][1].error_bar\n",
    "\n",
    "# Get noisy results for comparison\n",
    "noisy_expectation = qesem_job_results.noisy_results[0][1].value\n",
    "noisy_std = qesem_job_results.noisy_results[0][1].error_bar\n",
    "\n",
    "# Calculate ideal value for comparison\n",
    "ideal_expectation = qiskit.quantum_info.Statevector(circ_ex4).expectation_value(observable_ex4).real\n",
    "\n",
    "# Display comprehensive results summary\n",
    "print(\"\\n\" + \"=\" * 60)\n",
    "print(\"EXERCISE 4 - QESEM RESULTS SUMMARY\")\n",
    "print(\"=\" * 60)\n",
    "print(f\"Observable: Global Z measurement (Z^⊗{n_qubits_ex4})\")\n",
    "print(f\"Circuit: {n_steps_ex4}-step Kicked Ising, {n_qubits_ex4} qubits\")\n",
    "print(f\"Precision target: {precision_ex4_2}\")\n",
    "print(\"-\" * 60)\n",
    "print(f\"Ideal value:      {ideal_expectation:.6f}\")\n",
    "print(f\"Noisy value:      {noisy_expectation:.6f} ± {noisy_std:.6f}\")\n",
    "print(f\"QESEM value:      {mitigated_expectation:.6f} ± {mitigated_std:.6f}\")\n",
    "print(\"-\" * 60)\n",
    "print(f\"Noisy error:      {abs(noisy_expectation - ideal_expectation):.6f}\")\n",
    "print(f\"QESEM error:      {abs(mitigated_expectation - ideal_expectation):.6f}\")\n",
    "print(f\"Error reduction:  {abs(noisy_expectation - ideal_expectation)/abs(mitigated_expectation - ideal_expectation if mitigated_expectation != ideal_expectation else 1):.1f}x\")\n",
    "print(\"-\" * 60)\n",
    "print(f\"QESEM within target precision: {'✓' if abs(mitigated_expectation - ideal_expectation) <= precision_ex4_2 else '✗'}\")\n",
    "print(\"-\" * 60)\n",
    "# Additional detailed metrics\n",
    "print(f\"Total QPU time: \\n {qesem_job_results.total_execution_time.seconds:.2f} seconds\")\n",
    "print(f\"Gates fidelity measured during the experiment: \\n {qesem_job_results.execution_details.gate_fidelities}\")\n",
    "print(f\"Total shots / mitigation shots: \\n {qesem_job_results.execution_details.total_shots} / {qesem_job_results.execution_details.mitigation_shots}\")\n",
    "print(\"=\" * 60)"
   ]
  },
  {
   "cell_type": "markdown",
   "id": "2093db0e",
   "metadata": {},
   "source": [
    "# Additional information\n",
    "If you have any questions or need further assistance, feel free to ask!\n",
    "In order to get access to QESEM over real QPUs, please contact us at Qedma.\n",
    "\n",
    "<b>Created by:</b> Yotam Lifshitz, Qedma. Email: Yotam.Lifshitz@qedm.com<br>\n"
   ]
  }
 ],
 "metadata": {
  "jupytext": {
   "formats": "ipynb,py"
  },
  "kernelspec": {
   "display_name": "Python 3 (ipykernel)",
   "language": "python",
   "name": "python3"
  },
  "language_info": {
   "codemirror_mode": {
    "name": "ipython",
    "version": 3
   },
   "file_extension": ".py",
   "mimetype": "text/x-python",
   "name": "python",
   "nbconvert_exporter": "python",
   "pygments_lexer": "ipython3",
   "version": "3.12.3"
  }
 },
 "nbformat": 4,
 "nbformat_minor": 5
}
